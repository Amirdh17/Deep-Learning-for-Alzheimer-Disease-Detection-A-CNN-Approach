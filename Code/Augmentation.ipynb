{
  "nbformat": 4,
  "nbformat_minor": 0,
  "metadata": {
    "colab": {
      "provenance": []
    },
    "kernelspec": {
      "name": "python3",
      "display_name": "Python 3"
    },
    "language_info": {
      "name": "python"
    }
  },
  "cells": [
    {
      "cell_type": "code",
      "execution_count": null,
      "metadata": {
        "colab": {
          "base_uri": "https://localhost:8080/"
        },
        "id": "7riNTc1WSlio",
        "outputId": "b8f6c190-4367-4256-ac37-6e38064108c1"
      },
      "outputs": [
        {
          "output_type": "stream",
          "name": "stdout",
          "text": [
            "Mounted at /content/drive\n"
          ]
        }
      ],
      "source": [
        "from google.colab import drive\n",
        "drive.mount('/content/drive')"
      ]
    },
    {
      "cell_type": "code",
      "source": [
        "import imgaug as ia\n",
        "import imgaug.augmenters as iaa\n",
        "import numpy as np\n",
        "import cv2\n",
        "import os\n",
        "from PIL import Image\n",
        "from google.colab.patches import cv2_imshow"
      ],
      "metadata": {
        "id": "lg55UP77Su3W"
      },
      "execution_count": null,
      "outputs": []
    },
    {
      "cell_type": "code",
      "source": [
        "def edge_enhance(img, intensity_range=[-0.5, 0.5]):\n",
        "    intensity = np.random.uniform(intensity_range[0], intensity_range[1])\n",
        "    kernel = np.array([[0, intensity, 0], [intensity, 1 + 4*intensity, intensity], [0, intensity, 0]])\n",
        "    kernel = kernel / np.sum(kernel)\n",
        "    img = cv2.filter2D(img, -1, kernel)\n",
        "    return img\n",
        "\n",
        "def hist_equalize(img):\n",
        "    aug = iaa.HistogramEqualization()\n",
        "    augmented_image = aug(image=img)\n",
        "    return augmented_image"
      ],
      "metadata": {
        "id": "FWnUKq9AiXBS"
      },
      "execution_count": null,
      "outputs": []
    },
    {
      "cell_type": "code",
      "source": [
        "input_dir = '/content/drive/MyDrive/Colab Notebooks/Dataset/Moderate_Demented'\n",
        "output_dir = '/content/drive/MyDrive/moderate_x/'\n",
        "no = 1\n",
        "for filename in os.listdir(input_dir):\n",
        "  with Image.open(os.path.join(input_dir, filename)) as im:\n",
        "    im = np.array(im)\n",
        "\n",
        "    seq = iaa.Sequential([\n",
        "    iaa.EdgeDetect(alpha=(0, 0.5)), # image edge enhancement\n",
        "    iaa.HistogramEqualization(), # histogram equilization\n",
        "    iaa.Multiply((1.2, 1.5)),  # increase contrast\n",
        "    iaa.AdditiveGaussianNoise(scale=(0, 0.05*255)),  # add noise\n",
        "])\n",
        "  \n",
        "    image_aug = seq.augment_images(im)\n",
        "\n",
        "    #cv2_imshow(image_aug)\n",
        "  \n",
        "    #for i in range(len(image_aug)): \n",
        "    cv2.imwrite(\"/content/drive/MyDrive/moderate_x/\" + \"moderate_x\" + str(no) + \".jpg\", image_aug)\n",
        "    no += 1"
      ],
      "metadata": {
        "id": "ihLvBG_OS8Y_"
      },
      "execution_count": null,
      "outputs": []
    },
    {
      "cell_type": "code",
      "source": [
        "input_dir = '/content/drive/MyDrive/Colab Notebooks/Dataset/Moderate_Demented'\n",
        "output_dir = '/content/drive/MyDrive/moderate_y/'\n",
        "no = 1\n",
        "for filename in os.listdir(input_dir):\n",
        "  with Image.open(os.path.join(input_dir, filename)) as im:\n",
        "    im = np.array(im)\n",
        "\n",
        "    seq = iaa.Sequential([\n",
        "    iaa.EdgeDetect(alpha=(0, 0.5)), # image edge enhancement\n",
        "    iaa.HistogramEqualization(), # histogram equilization\n",
        "    iaa.Multiply((1.2, 1.5)),  # increase contrast\n",
        "    #iaa.AdditiveGaussianNoise(scale=(0, 0.05*255)),  # add noise\n",
        "])\n",
        "  \n",
        "    image_aug = seq.augment_images(im)\n",
        "\n",
        "    cv2.imwrite(\"/content/drive/MyDrive/moderate_y/\" + \"moderate_x\" + str(no) + \".jpg\", image_aug)\n",
        "    no += 1"
      ],
      "metadata": {
        "id": "qJnLXiigwD7N"
      },
      "execution_count": null,
      "outputs": []
    }
  ]
}